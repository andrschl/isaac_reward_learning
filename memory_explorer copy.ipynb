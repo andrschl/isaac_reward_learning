{
 "cells": [
  {
   "cell_type": "code",
   "execution_count": 1,
   "metadata": {},
   "outputs": [],
   "source": [
    "import numpy as np"
   ]
  },
  {
   "cell_type": "code",
   "execution_count": null,
   "metadata": {},
   "outputs": [
    {
     "name": "stdout",
     "output_type": "stream",
     "text": [
      "Data loaded from logs/full_state_action_pairs.npz\n",
      "Keys in the data file: KeysView(NpzFile 'logs/full_state_action_pairs.npz' with keys: policy, actions)\n",
      "Data type: <class 'numpy.lib.npyio.NpzFile'>\n"
     ]
    }
   ],
   "source": [
    "file_name = 'logs/full_state_action_pairs.npz'\n",
    "data = np.load(file_name)\n",
    "\n",
    "print(\"Data loaded from\", file_name)\n",
    "\n",
    "print(\"Keys in the data file:\", data.keys())\n",
    "print(\"Data type:\", type(data))"
   ]
  },
  {
   "cell_type": "code",
   "execution_count": 4,
   "metadata": {},
   "outputs": [
    {
     "name": "stdout",
     "output_type": "stream",
     "text": [
      "policy\n",
      "Data type: <class 'numpy.ndarray'>\n",
      "Shape: (1000, 4096, 81)\n",
      "\n",
      "actions\n",
      "Data type: <class 'numpy.ndarray'>\n",
      "Shape: (1000, 4096, 28)\n",
      "\n"
     ]
    }
   ],
   "source": [
    "for f in data.files:\n",
    "    print(f)\n",
    "    print(\"Data type:\", type(data[f]))\n",
    "    print(\"Shape:\", data[f].shape)\n",
    "    print()"
   ]
  },
  {
   "cell_type": "code",
   "execution_count": null,
   "metadata": {},
   "outputs": [],
   "source": [
    "class TrajectoryLoader:\n",
    "\n",
    "    def __init__(self, file_path):\n",
    "        self.file_path = file_path\n",
    "        self.data = np.load(file_path)\n",
    "        \n",
    "\n",
    "    def get_trajectory(self, index, batch_size: ) -> tuple:\n",
    "        states = self.data['states'][:, index, :]\n",
    "        actions = self.data['actions'][:, index, :]\n",
    "        return states, actions\n",
    "\n",
    "    def sample(self):\n",
    "        index = np.random.randint(0, self.data['states'].shape[1])\n",
    "        return self.get_trajectory(index)"
   ]
  },
  {
   "cell_type": "code",
   "execution_count": 35,
   "metadata": {},
   "outputs": [
    {
     "name": "stdout",
     "output_type": "stream",
     "text": [
      "Sampled trajectory:\n",
      "States shape: (1000, 81)\n",
      "Actions shape: (1000, 28)\n"
     ]
    }
   ],
   "source": [
    "loader = TrajectoryLoader(file_name)\n",
    "\n",
    "s = loader.sample()\n",
    "print(\"Sampled trajectory:\")\n",
    "print(\"States shape:\", s[0].shape)\n",
    "print(\"Actions shape:\", s[1].shape)"
   ]
  }
 ],
 "metadata": {
  "kernelspec": {
   "display_name": "Python 3",
   "language": "python",
   "name": "python3"
  },
  "language_info": {
   "codemirror_mode": {
    "name": "ipython",
    "version": 3
   },
   "file_extension": ".py",
   "mimetype": "text/x-python",
   "name": "python",
   "nbconvert_exporter": "python",
   "pygments_lexer": "ipython3",
   "version": "3.10.16"
  }
 },
 "nbformat": 4,
 "nbformat_minor": 2
}
